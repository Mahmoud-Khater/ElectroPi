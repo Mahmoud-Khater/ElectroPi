{
 "cells": [
  {
   "cell_type": "code",
   "execution_count": 1,
   "id": "5f878318",
   "metadata": {
    "execution": {
     "iopub.execute_input": "2024-08-05T15:38:35.868017Z",
     "iopub.status.busy": "2024-08-05T15:38:35.867568Z",
     "iopub.status.idle": "2024-08-05T15:38:35.887014Z",
     "shell.execute_reply": "2024-08-05T15:38:35.885692Z"
    },
    "papermill": {
     "duration": 0.032389,
     "end_time": "2024-08-05T15:38:35.889649",
     "exception": false,
     "start_time": "2024-08-05T15:38:35.857260",
     "status": "completed"
    },
    "tags": []
   },
   "outputs": [
    {
     "name": "stdout",
     "output_type": "stream",
     "text": [
      "Writing DataPrep_Kit.py\n"
     ]
    }
   ],
   "source": [
    "%%writefile DataPrep_Kit.py\n",
    "import numpy as np\n",
    "import pandas as pd\n",
    "from sklearn.preprocessing import LabelEncoder\n",
    "# data reading\n",
    "def read_file(pathOfFile,typeOfFile):\n",
    "    '''\n",
    "    It's a function in my own package to read file using pandas package \n",
    "    data maybe csv, Fixed-Width Text File (fwf), JSON, HTML , XML , clipboard,\n",
    "    Excel, HDF5 (hdf), feather, Parquet, orc , stata and SQL\n",
    "    '''\n",
    "    if typeOfFile == \"csv\":\n",
    "        data = pd.read_csv(pathOfFile)\n",
    "    elif typeOfFile == \"fwf\":\n",
    "        data = pd.read_fwf(pathOfFile)\n",
    "    elif typeOfFile == \"JSON\":\n",
    "        data = pd.read_json(pathOfFile)\n",
    "    elif typeOfFile == \"HTML\":\n",
    "        data = pd.read_html(pathOfFile)\n",
    "    elif typeOfFile == \"XML\":\n",
    "        data = pd.read_xml(pathOfFile)\n",
    "    elif typeOfFile == \"clipboard\":\n",
    "        data = pd.read_clipboard(pathOfFile)\n",
    "    elif typeOfFile == \"Excel\":\n",
    "        data = pd.read_excel(pathOfFile)\n",
    "    elif typeOfFile == \"HDF5\":\n",
    "        data = pd.read_hdf(pathOfFile)\n",
    "    elif typeOfFile == \"feather\":\n",
    "        data = pd.read_feather(pathOfFile)\n",
    "    elif typeOfFile == \"Parquet\":\n",
    "        data = pd.read_parquet(pathOfFile)\n",
    "    elif typeOfFile == \"orc\":\n",
    "        data = pd.read_orc(pathOfFile)\n",
    "    elif typeOfFile == \"stata\":\n",
    "        data = pd.read_stata(pathOfFile)\n",
    "    elif typeOfFile == \"SQL\":\n",
    "        data = pd.read_sql(pathOfFile)\n",
    "    else:\n",
    "        data = pd.DataFrame([])\n",
    "        help (read_file)\n",
    "    return data\n",
    "#data summary\n",
    "def Data_Summary(data : pd.DataFrame):\n",
    "    '''\n",
    "    It's a function in my own package print data summary (categorical & numerical)\n",
    "    '''\n",
    "    display(data.describe(include = ['object','bool'])) , display(data.describe())\n",
    "#Handling missing values\n",
    "def handle_missing_values(data : pd.DataFrame,remove=False, **methods):\n",
    "    '''\n",
    "    It's a function in my own package to handle missing values >>In Place<<\n",
    "    remove nulls --> remove = True\n",
    "    data_method --> specific --> if you need specific word or number\n",
    "    data_method --> org -- if you need a method from next\n",
    "    replace nulls with mean,median,ffill,bfill\n",
    "    ffill --> method is set as ffill and hence the value in the same column replaces the null value from up to down\n",
    "    bfill --> method is set as ffill and hence the value in the same column replaces the null value from down to up\n",
    "    ex:data_method='org', method = 'ffill'\n",
    "    '''\n",
    "    if remove:\n",
    "        data.dropna(inplace=True)\n",
    "        return\n",
    "    if methods['data_method'] == 'specific':\n",
    "        data.fillna( methods['value'], inplace = True)\n",
    "    elif methods['data_method'] == 'org':\n",
    "        data.fillna( method=methods['method'] , inplace = True)\n",
    "def encoding (data: pd.DataFrame , method, cols : list):\n",
    "    '''\n",
    "    It's a function in my own package to encode categorical columns \n",
    "    method is LabelEncoder or oneHotEncoder\n",
    "    cols is the list of columns\n",
    "    '''\n",
    "    if method == 'LabelEncoder':\n",
    "        labelencoder = LabelEncoder()\n",
    "        data[cols] = data[cols].apply(labelencoder.fit_transform)\n",
    "        return data\n",
    "    elif method == 'oneHotEncoder':\n",
    "        if len(cols)>1:\n",
    "            new_data = pd.get_dummies(data, columns=cols, prefix=cols)\n",
    "            return new_data\n",
    "        new_data = pd.get_dummies(data, columns=cols, prefix=cols)\n",
    "        return new_data\n",
    "    else :\n",
    "          raise ValueError(\"Enter oneHotEncoder or LabelEncoder\")"
   ]
  },
  {
   "cell_type": "code",
   "execution_count": 2,
   "id": "03ac1ee6",
   "metadata": {
    "execution": {
     "iopub.execute_input": "2024-08-05T15:38:35.908145Z",
     "iopub.status.busy": "2024-08-05T15:38:35.907275Z",
     "iopub.status.idle": "2024-08-05T15:38:38.349527Z",
     "shell.execute_reply": "2024-08-05T15:38:38.348001Z"
    },
    "papermill": {
     "duration": 2.454935,
     "end_time": "2024-08-05T15:38:38.352811",
     "exception": false,
     "start_time": "2024-08-05T15:38:35.897876",
     "status": "completed"
    },
    "tags": []
   },
   "outputs": [],
   "source": [
    "import DataPrep_Kit as dp\n",
    "import pandas as pd\n",
    "import numpy as np"
   ]
  },
  {
   "cell_type": "code",
   "execution_count": 3,
   "id": "6299e5fc",
   "metadata": {
    "execution": {
     "iopub.execute_input": "2024-08-05T15:38:38.371892Z",
     "iopub.status.busy": "2024-08-05T15:38:38.371312Z",
     "iopub.status.idle": "2024-08-05T15:38:38.401691Z",
     "shell.execute_reply": "2024-08-05T15:38:38.400473Z"
    },
    "papermill": {
     "duration": 0.043499,
     "end_time": "2024-08-05T15:38:38.404558",
     "exception": false,
     "start_time": "2024-08-05T15:38:38.361059",
     "status": "completed"
    },
    "tags": []
   },
   "outputs": [
    {
     "data": {
      "text/html": [
       "<div>\n",
       "<style scoped>\n",
       "    .dataframe tbody tr th:only-of-type {\n",
       "        vertical-align: middle;\n",
       "    }\n",
       "\n",
       "    .dataframe tbody tr th {\n",
       "        vertical-align: top;\n",
       "    }\n",
       "\n",
       "    .dataframe thead th {\n",
       "        text-align: right;\n",
       "    }\n",
       "</style>\n",
       "<table border=\"1\" class=\"dataframe\">\n",
       "  <thead>\n",
       "    <tr style=\"text-align: right;\">\n",
       "      <th></th>\n",
       "      <th>Color</th>\n",
       "      <th>Size</th>\n",
       "    </tr>\n",
       "  </thead>\n",
       "  <tbody>\n",
       "    <tr>\n",
       "      <th>0</th>\n",
       "      <td>Red</td>\n",
       "      <td>Small</td>\n",
       "    </tr>\n",
       "    <tr>\n",
       "      <th>1</th>\n",
       "      <td>Blue</td>\n",
       "      <td>Medium</td>\n",
       "    </tr>\n",
       "    <tr>\n",
       "      <th>2</th>\n",
       "      <td>Green</td>\n",
       "      <td>Large</td>\n",
       "    </tr>\n",
       "    <tr>\n",
       "      <th>3</th>\n",
       "      <td>Blue</td>\n",
       "      <td>Medium</td>\n",
       "    </tr>\n",
       "    <tr>\n",
       "      <th>4</th>\n",
       "      <td>Red</td>\n",
       "      <td>Small</td>\n",
       "    </tr>\n",
       "  </tbody>\n",
       "</table>\n",
       "</div>"
      ],
      "text/plain": [
       "   Color    Size\n",
       "0    Red   Small\n",
       "1   Blue  Medium\n",
       "2  Green   Large\n",
       "3   Blue  Medium\n",
       "4    Red   Small"
      ]
     },
     "execution_count": 3,
     "metadata": {},
     "output_type": "execute_result"
    }
   ],
   "source": [
    "df = pd.DataFrame({\n",
    "    'Color': ['Red', 'Blue', 'Green', 'Blue', 'Red'],\n",
    "    'Size': ['Small', 'Medium', 'Large', 'Medium', 'Small']\n",
    "})\n",
    "df"
   ]
  },
  {
   "cell_type": "code",
   "execution_count": 4,
   "id": "57fca863",
   "metadata": {
    "execution": {
     "iopub.execute_input": "2024-08-05T15:38:38.423464Z",
     "iopub.status.busy": "2024-08-05T15:38:38.422926Z",
     "iopub.status.idle": "2024-08-05T15:38:38.448266Z",
     "shell.execute_reply": "2024-08-05T15:38:38.446962Z"
    },
    "papermill": {
     "duration": 0.038011,
     "end_time": "2024-08-05T15:38:38.451174",
     "exception": false,
     "start_time": "2024-08-05T15:38:38.413163",
     "status": "completed"
    },
    "tags": []
   },
   "outputs": [],
   "source": [
    "# Label Encoding\n",
    "df = dp.encoding(df,'LabelEncoder',['Color'])\n",
    "# One-Hot Encoding\n",
    "df = dp.encoding(df,'oneHotEncoder',['Size'])"
   ]
  },
  {
   "cell_type": "code",
   "execution_count": 5,
   "id": "4e49d054",
   "metadata": {
    "execution": {
     "iopub.execute_input": "2024-08-05T15:38:38.470239Z",
     "iopub.status.busy": "2024-08-05T15:38:38.469795Z",
     "iopub.status.idle": "2024-08-05T15:38:38.483308Z",
     "shell.execute_reply": "2024-08-05T15:38:38.482086Z"
    },
    "papermill": {
     "duration": 0.026592,
     "end_time": "2024-08-05T15:38:38.486352",
     "exception": false,
     "start_time": "2024-08-05T15:38:38.459760",
     "status": "completed"
    },
    "tags": []
   },
   "outputs": [
    {
     "data": {
      "text/html": [
       "<div>\n",
       "<style scoped>\n",
       "    .dataframe tbody tr th:only-of-type {\n",
       "        vertical-align: middle;\n",
       "    }\n",
       "\n",
       "    .dataframe tbody tr th {\n",
       "        vertical-align: top;\n",
       "    }\n",
       "\n",
       "    .dataframe thead th {\n",
       "        text-align: right;\n",
       "    }\n",
       "</style>\n",
       "<table border=\"1\" class=\"dataframe\">\n",
       "  <thead>\n",
       "    <tr style=\"text-align: right;\">\n",
       "      <th></th>\n",
       "      <th>Color</th>\n",
       "      <th>Size_Large</th>\n",
       "      <th>Size_Medium</th>\n",
       "      <th>Size_Small</th>\n",
       "    </tr>\n",
       "  </thead>\n",
       "  <tbody>\n",
       "    <tr>\n",
       "      <th>0</th>\n",
       "      <td>2</td>\n",
       "      <td>False</td>\n",
       "      <td>False</td>\n",
       "      <td>True</td>\n",
       "    </tr>\n",
       "    <tr>\n",
       "      <th>1</th>\n",
       "      <td>0</td>\n",
       "      <td>False</td>\n",
       "      <td>True</td>\n",
       "      <td>False</td>\n",
       "    </tr>\n",
       "    <tr>\n",
       "      <th>2</th>\n",
       "      <td>1</td>\n",
       "      <td>True</td>\n",
       "      <td>False</td>\n",
       "      <td>False</td>\n",
       "    </tr>\n",
       "    <tr>\n",
       "      <th>3</th>\n",
       "      <td>0</td>\n",
       "      <td>False</td>\n",
       "      <td>True</td>\n",
       "      <td>False</td>\n",
       "    </tr>\n",
       "    <tr>\n",
       "      <th>4</th>\n",
       "      <td>2</td>\n",
       "      <td>False</td>\n",
       "      <td>False</td>\n",
       "      <td>True</td>\n",
       "    </tr>\n",
       "  </tbody>\n",
       "</table>\n",
       "</div>"
      ],
      "text/plain": [
       "   Color  Size_Large  Size_Medium  Size_Small\n",
       "0      2       False        False        True\n",
       "1      0       False         True       False\n",
       "2      1        True        False       False\n",
       "3      0       False         True       False\n",
       "4      2       False        False        True"
      ]
     },
     "execution_count": 5,
     "metadata": {},
     "output_type": "execute_result"
    }
   ],
   "source": [
    "df"
   ]
  },
  {
   "cell_type": "code",
   "execution_count": 6,
   "id": "02e93d3b",
   "metadata": {
    "execution": {
     "iopub.execute_input": "2024-08-05T15:38:38.507274Z",
     "iopub.status.busy": "2024-08-05T15:38:38.506836Z",
     "iopub.status.idle": "2024-08-05T15:38:38.513540Z",
     "shell.execute_reply": "2024-08-05T15:38:38.512250Z"
    },
    "papermill": {
     "duration": 0.021372,
     "end_time": "2024-08-05T15:38:38.516940",
     "exception": false,
     "start_time": "2024-08-05T15:38:38.495568",
     "status": "completed"
    },
    "tags": []
   },
   "outputs": [],
   "source": [
    "df = pd.DataFrame({\n",
    "    'Color': ['Red', 'Blue', 'Green', 'Blue', 'Red'],\n",
    "    'Size': ['Small', 'Medium', 'Large', 'Medium', 'Small']\n",
    "})"
   ]
  },
  {
   "cell_type": "code",
   "execution_count": 7,
   "id": "959e0dd0",
   "metadata": {
    "execution": {
     "iopub.execute_input": "2024-08-05T15:38:38.538469Z",
     "iopub.status.busy": "2024-08-05T15:38:38.538024Z",
     "iopub.status.idle": "2024-08-05T15:38:38.548205Z",
     "shell.execute_reply": "2024-08-05T15:38:38.546911Z"
    },
    "papermill": {
     "duration": 0.025384,
     "end_time": "2024-08-05T15:38:38.551245",
     "exception": false,
     "start_time": "2024-08-05T15:38:38.525861",
     "status": "completed"
    },
    "tags": []
   },
   "outputs": [],
   "source": [
    "df = dp.encoding(df,'oneHotEncoder',['Color','Size'])"
   ]
  },
  {
   "cell_type": "code",
   "execution_count": 8,
   "id": "7be4e6e6",
   "metadata": {
    "execution": {
     "iopub.execute_input": "2024-08-05T15:38:38.572231Z",
     "iopub.status.busy": "2024-08-05T15:38:38.571808Z",
     "iopub.status.idle": "2024-08-05T15:38:38.586743Z",
     "shell.execute_reply": "2024-08-05T15:38:38.585328Z"
    },
    "papermill": {
     "duration": 0.029062,
     "end_time": "2024-08-05T15:38:38.589647",
     "exception": false,
     "start_time": "2024-08-05T15:38:38.560585",
     "status": "completed"
    },
    "tags": []
   },
   "outputs": [
    {
     "data": {
      "text/html": [
       "<div>\n",
       "<style scoped>\n",
       "    .dataframe tbody tr th:only-of-type {\n",
       "        vertical-align: middle;\n",
       "    }\n",
       "\n",
       "    .dataframe tbody tr th {\n",
       "        vertical-align: top;\n",
       "    }\n",
       "\n",
       "    .dataframe thead th {\n",
       "        text-align: right;\n",
       "    }\n",
       "</style>\n",
       "<table border=\"1\" class=\"dataframe\">\n",
       "  <thead>\n",
       "    <tr style=\"text-align: right;\">\n",
       "      <th></th>\n",
       "      <th>Color_Blue</th>\n",
       "      <th>Color_Green</th>\n",
       "      <th>Color_Red</th>\n",
       "      <th>Size_Large</th>\n",
       "      <th>Size_Medium</th>\n",
       "      <th>Size_Small</th>\n",
       "    </tr>\n",
       "  </thead>\n",
       "  <tbody>\n",
       "    <tr>\n",
       "      <th>0</th>\n",
       "      <td>False</td>\n",
       "      <td>False</td>\n",
       "      <td>True</td>\n",
       "      <td>False</td>\n",
       "      <td>False</td>\n",
       "      <td>True</td>\n",
       "    </tr>\n",
       "    <tr>\n",
       "      <th>1</th>\n",
       "      <td>True</td>\n",
       "      <td>False</td>\n",
       "      <td>False</td>\n",
       "      <td>False</td>\n",
       "      <td>True</td>\n",
       "      <td>False</td>\n",
       "    </tr>\n",
       "    <tr>\n",
       "      <th>2</th>\n",
       "      <td>False</td>\n",
       "      <td>True</td>\n",
       "      <td>False</td>\n",
       "      <td>True</td>\n",
       "      <td>False</td>\n",
       "      <td>False</td>\n",
       "    </tr>\n",
       "    <tr>\n",
       "      <th>3</th>\n",
       "      <td>True</td>\n",
       "      <td>False</td>\n",
       "      <td>False</td>\n",
       "      <td>False</td>\n",
       "      <td>True</td>\n",
       "      <td>False</td>\n",
       "    </tr>\n",
       "    <tr>\n",
       "      <th>4</th>\n",
       "      <td>False</td>\n",
       "      <td>False</td>\n",
       "      <td>True</td>\n",
       "      <td>False</td>\n",
       "      <td>False</td>\n",
       "      <td>True</td>\n",
       "    </tr>\n",
       "  </tbody>\n",
       "</table>\n",
       "</div>"
      ],
      "text/plain": [
       "   Color_Blue  Color_Green  Color_Red  Size_Large  Size_Medium  Size_Small\n",
       "0       False        False       True       False        False        True\n",
       "1        True        False      False       False         True       False\n",
       "2       False         True      False        True        False       False\n",
       "3        True        False      False       False         True       False\n",
       "4       False        False       True       False        False        True"
      ]
     },
     "execution_count": 8,
     "metadata": {},
     "output_type": "execute_result"
    }
   ],
   "source": [
    "df"
   ]
  },
  {
   "cell_type": "code",
   "execution_count": 9,
   "id": "652568fd",
   "metadata": {
    "execution": {
     "iopub.execute_input": "2024-08-05T15:38:38.610259Z",
     "iopub.status.busy": "2024-08-05T15:38:38.609870Z",
     "iopub.status.idle": "2024-08-05T15:38:38.618070Z",
     "shell.execute_reply": "2024-08-05T15:38:38.616589Z"
    },
    "papermill": {
     "duration": 0.021431,
     "end_time": "2024-08-05T15:38:38.620788",
     "exception": false,
     "start_time": "2024-08-05T15:38:38.599357",
     "status": "completed"
    },
    "tags": []
   },
   "outputs": [],
   "source": [
    "d2 = {\n",
    "'Name': ['Shark', 'Whale', 'Jellyfish', 'Starfish', pd.NaT],\n",
    "'ID': [1, 2, 3, 4, pd.NaT],\n",
    "'Population': [100, 200, np.nan, pd.NaT, pd.NaT],\n",
    "'Regions': [1, None, pd.NaT, pd.NaT, pd.NaT],\n",
    "'Endangered': [5, pd.NaT, pd.NaT, pd.NaT, pd.NaT]\n",
    "}\n",
    "df2 = pd.DataFrame(d2)"
   ]
  },
  {
   "cell_type": "code",
   "execution_count": 10,
   "id": "24f5d155",
   "metadata": {
    "execution": {
     "iopub.execute_input": "2024-08-05T15:38:38.641274Z",
     "iopub.status.busy": "2024-08-05T15:38:38.640860Z",
     "iopub.status.idle": "2024-08-05T15:38:38.654672Z",
     "shell.execute_reply": "2024-08-05T15:38:38.653452Z"
    },
    "papermill": {
     "duration": 0.027207,
     "end_time": "2024-08-05T15:38:38.657519",
     "exception": false,
     "start_time": "2024-08-05T15:38:38.630312",
     "status": "completed"
    },
    "tags": []
   },
   "outputs": [
    {
     "data": {
      "text/html": [
       "<div>\n",
       "<style scoped>\n",
       "    .dataframe tbody tr th:only-of-type {\n",
       "        vertical-align: middle;\n",
       "    }\n",
       "\n",
       "    .dataframe tbody tr th {\n",
       "        vertical-align: top;\n",
       "    }\n",
       "\n",
       "    .dataframe thead th {\n",
       "        text-align: right;\n",
       "    }\n",
       "</style>\n",
       "<table border=\"1\" class=\"dataframe\">\n",
       "  <thead>\n",
       "    <tr style=\"text-align: right;\">\n",
       "      <th></th>\n",
       "      <th>Name</th>\n",
       "      <th>ID</th>\n",
       "      <th>Population</th>\n",
       "      <th>Regions</th>\n",
       "      <th>Endangered</th>\n",
       "    </tr>\n",
       "  </thead>\n",
       "  <tbody>\n",
       "    <tr>\n",
       "      <th>0</th>\n",
       "      <td>Shark</td>\n",
       "      <td>1</td>\n",
       "      <td>100</td>\n",
       "      <td>1</td>\n",
       "      <td>5</td>\n",
       "    </tr>\n",
       "    <tr>\n",
       "      <th>1</th>\n",
       "      <td>Whale</td>\n",
       "      <td>2</td>\n",
       "      <td>200</td>\n",
       "      <td>None</td>\n",
       "      <td>NaT</td>\n",
       "    </tr>\n",
       "    <tr>\n",
       "      <th>2</th>\n",
       "      <td>Jellyfish</td>\n",
       "      <td>3</td>\n",
       "      <td>NaN</td>\n",
       "      <td>NaT</td>\n",
       "      <td>NaT</td>\n",
       "    </tr>\n",
       "    <tr>\n",
       "      <th>3</th>\n",
       "      <td>Starfish</td>\n",
       "      <td>4</td>\n",
       "      <td>NaT</td>\n",
       "      <td>NaT</td>\n",
       "      <td>NaT</td>\n",
       "    </tr>\n",
       "    <tr>\n",
       "      <th>4</th>\n",
       "      <td>NaT</td>\n",
       "      <td>NaT</td>\n",
       "      <td>NaT</td>\n",
       "      <td>NaT</td>\n",
       "      <td>NaT</td>\n",
       "    </tr>\n",
       "  </tbody>\n",
       "</table>\n",
       "</div>"
      ],
      "text/plain": [
       "        Name   ID Population Regions Endangered\n",
       "0      Shark    1        100       1          5\n",
       "1      Whale    2        200    None        NaT\n",
       "2  Jellyfish    3        NaN     NaT        NaT\n",
       "3   Starfish    4        NaT     NaT        NaT\n",
       "4        NaT  NaT        NaT     NaT        NaT"
      ]
     },
     "execution_count": 10,
     "metadata": {},
     "output_type": "execute_result"
    }
   ],
   "source": [
    "df2"
   ]
  },
  {
   "cell_type": "code",
   "execution_count": 11,
   "id": "0a1ae5a5",
   "metadata": {
    "execution": {
     "iopub.execute_input": "2024-08-05T15:38:38.678487Z",
     "iopub.status.busy": "2024-08-05T15:38:38.678070Z",
     "iopub.status.idle": "2024-08-05T15:38:38.686029Z",
     "shell.execute_reply": "2024-08-05T15:38:38.684515Z"
    },
    "papermill": {
     "duration": 0.022167,
     "end_time": "2024-08-05T15:38:38.689025",
     "exception": false,
     "start_time": "2024-08-05T15:38:38.666858",
     "status": "completed"
    },
    "tags": []
   },
   "outputs": [],
   "source": [
    "dp.handle_missing_values(df2,remove=True)"
   ]
  },
  {
   "cell_type": "code",
   "execution_count": 12,
   "id": "6abe28ed",
   "metadata": {
    "execution": {
     "iopub.execute_input": "2024-08-05T15:38:38.710067Z",
     "iopub.status.busy": "2024-08-05T15:38:38.709333Z",
     "iopub.status.idle": "2024-08-05T15:38:38.723292Z",
     "shell.execute_reply": "2024-08-05T15:38:38.722192Z"
    },
    "papermill": {
     "duration": 0.027461,
     "end_time": "2024-08-05T15:38:38.726053",
     "exception": false,
     "start_time": "2024-08-05T15:38:38.698592",
     "status": "completed"
    },
    "tags": []
   },
   "outputs": [
    {
     "data": {
      "text/html": [
       "<div>\n",
       "<style scoped>\n",
       "    .dataframe tbody tr th:only-of-type {\n",
       "        vertical-align: middle;\n",
       "    }\n",
       "\n",
       "    .dataframe tbody tr th {\n",
       "        vertical-align: top;\n",
       "    }\n",
       "\n",
       "    .dataframe thead th {\n",
       "        text-align: right;\n",
       "    }\n",
       "</style>\n",
       "<table border=\"1\" class=\"dataframe\">\n",
       "  <thead>\n",
       "    <tr style=\"text-align: right;\">\n",
       "      <th></th>\n",
       "      <th>Name</th>\n",
       "      <th>ID</th>\n",
       "      <th>Population</th>\n",
       "      <th>Regions</th>\n",
       "      <th>Endangered</th>\n",
       "    </tr>\n",
       "  </thead>\n",
       "  <tbody>\n",
       "    <tr>\n",
       "      <th>0</th>\n",
       "      <td>Shark</td>\n",
       "      <td>1</td>\n",
       "      <td>100</td>\n",
       "      <td>1</td>\n",
       "      <td>5</td>\n",
       "    </tr>\n",
       "  </tbody>\n",
       "</table>\n",
       "</div>"
      ],
      "text/plain": [
       "    Name ID Population Regions Endangered\n",
       "0  Shark  1        100       1          5"
      ]
     },
     "execution_count": 12,
     "metadata": {},
     "output_type": "execute_result"
    }
   ],
   "source": [
    "df2"
   ]
  },
  {
   "cell_type": "code",
   "execution_count": 13,
   "id": "6bc4557d",
   "metadata": {
    "execution": {
     "iopub.execute_input": "2024-08-05T15:38:38.747783Z",
     "iopub.status.busy": "2024-08-05T15:38:38.746756Z",
     "iopub.status.idle": "2024-08-05T15:38:38.755538Z",
     "shell.execute_reply": "2024-08-05T15:38:38.754115Z"
    },
    "papermill": {
     "duration": 0.023015,
     "end_time": "2024-08-05T15:38:38.758532",
     "exception": false,
     "start_time": "2024-08-05T15:38:38.735517",
     "status": "completed"
    },
    "tags": []
   },
   "outputs": [],
   "source": [
    "d2 = {\n",
    "'Name': ['Shark', 'Whale', 'Jellyfish', 'Starfish', pd.NaT],\n",
    "'ID': [1, 2, 3, 4, pd.NaT],\n",
    "'Population': [100, 200, np.nan, pd.NaT, pd.NaT],\n",
    "'Regions': [1, None, pd.NaT, pd.NaT, pd.NaT],\n",
    "'Endangered': [5, pd.NaT, pd.NaT, pd.NaT, pd.NaT]\n",
    "}\n",
    "df2 = pd.DataFrame(d2)"
   ]
  },
  {
   "cell_type": "code",
   "execution_count": 14,
   "id": "dcd20663",
   "metadata": {
    "execution": {
     "iopub.execute_input": "2024-08-05T15:38:38.781792Z",
     "iopub.status.busy": "2024-08-05T15:38:38.781345Z",
     "iopub.status.idle": "2024-08-05T15:38:38.792533Z",
     "shell.execute_reply": "2024-08-05T15:38:38.791341Z"
    },
    "papermill": {
     "duration": 0.026306,
     "end_time": "2024-08-05T15:38:38.795347",
     "exception": false,
     "start_time": "2024-08-05T15:38:38.769041",
     "status": "completed"
    },
    "tags": []
   },
   "outputs": [
    {
     "name": "stderr",
     "output_type": "stream",
     "text": [
      "/kaggle/working/DataPrep_Kit.py:65: FutureWarning: DataFrame.fillna with 'method' is deprecated and will raise in a future version. Use obj.ffill() or obj.bfill() instead.\n",
      "  data.fillna( method=methods['method'] , inplace = True)\n",
      "/kaggle/working/DataPrep_Kit.py:65: FutureWarning: Downcasting object dtype arrays on .fillna, .ffill, .bfill is deprecated and will change in a future version. Call result.infer_objects(copy=False) instead. To opt-in to the future behavior, set `pd.set_option('future.no_silent_downcasting', True)`\n",
      "  data.fillna( method=methods['method'] , inplace = True)\n"
     ]
    }
   ],
   "source": [
    "dp.handle_missing_values(df2,data_method='org',method='ffill')"
   ]
  },
  {
   "cell_type": "code",
   "execution_count": 15,
   "id": "46077685",
   "metadata": {
    "execution": {
     "iopub.execute_input": "2024-08-05T15:38:38.816877Z",
     "iopub.status.busy": "2024-08-05T15:38:38.816268Z",
     "iopub.status.idle": "2024-08-05T15:38:38.830598Z",
     "shell.execute_reply": "2024-08-05T15:38:38.829346Z"
    },
    "papermill": {
     "duration": 0.028518,
     "end_time": "2024-08-05T15:38:38.833365",
     "exception": false,
     "start_time": "2024-08-05T15:38:38.804847",
     "status": "completed"
    },
    "tags": []
   },
   "outputs": [
    {
     "data": {
      "text/html": [
       "<div>\n",
       "<style scoped>\n",
       "    .dataframe tbody tr th:only-of-type {\n",
       "        vertical-align: middle;\n",
       "    }\n",
       "\n",
       "    .dataframe tbody tr th {\n",
       "        vertical-align: top;\n",
       "    }\n",
       "\n",
       "    .dataframe thead th {\n",
       "        text-align: right;\n",
       "    }\n",
       "</style>\n",
       "<table border=\"1\" class=\"dataframe\">\n",
       "  <thead>\n",
       "    <tr style=\"text-align: right;\">\n",
       "      <th></th>\n",
       "      <th>Name</th>\n",
       "      <th>ID</th>\n",
       "      <th>Population</th>\n",
       "      <th>Regions</th>\n",
       "      <th>Endangered</th>\n",
       "    </tr>\n",
       "  </thead>\n",
       "  <tbody>\n",
       "    <tr>\n",
       "      <th>0</th>\n",
       "      <td>Shark</td>\n",
       "      <td>1</td>\n",
       "      <td>100</td>\n",
       "      <td>1</td>\n",
       "      <td>5</td>\n",
       "    </tr>\n",
       "    <tr>\n",
       "      <th>1</th>\n",
       "      <td>Whale</td>\n",
       "      <td>2</td>\n",
       "      <td>200</td>\n",
       "      <td>1</td>\n",
       "      <td>5</td>\n",
       "    </tr>\n",
       "    <tr>\n",
       "      <th>2</th>\n",
       "      <td>Jellyfish</td>\n",
       "      <td>3</td>\n",
       "      <td>200</td>\n",
       "      <td>1</td>\n",
       "      <td>5</td>\n",
       "    </tr>\n",
       "    <tr>\n",
       "      <th>3</th>\n",
       "      <td>Starfish</td>\n",
       "      <td>4</td>\n",
       "      <td>200</td>\n",
       "      <td>1</td>\n",
       "      <td>5</td>\n",
       "    </tr>\n",
       "    <tr>\n",
       "      <th>4</th>\n",
       "      <td>Starfish</td>\n",
       "      <td>4</td>\n",
       "      <td>200</td>\n",
       "      <td>1</td>\n",
       "      <td>5</td>\n",
       "    </tr>\n",
       "  </tbody>\n",
       "</table>\n",
       "</div>"
      ],
      "text/plain": [
       "        Name  ID  Population  Regions  Endangered\n",
       "0      Shark   1         100        1           5\n",
       "1      Whale   2         200        1           5\n",
       "2  Jellyfish   3         200        1           5\n",
       "3   Starfish   4         200        1           5\n",
       "4   Starfish   4         200        1           5"
      ]
     },
     "execution_count": 15,
     "metadata": {},
     "output_type": "execute_result"
    }
   ],
   "source": [
    "df2"
   ]
  },
  {
   "cell_type": "code",
   "execution_count": 16,
   "id": "a796ad16",
   "metadata": {
    "execution": {
     "iopub.execute_input": "2024-08-05T15:38:38.855963Z",
     "iopub.status.busy": "2024-08-05T15:38:38.855483Z",
     "iopub.status.idle": "2024-08-05T15:38:38.864603Z",
     "shell.execute_reply": "2024-08-05T15:38:38.863123Z"
    },
    "papermill": {
     "duration": 0.024206,
     "end_time": "2024-08-05T15:38:38.867889",
     "exception": false,
     "start_time": "2024-08-05T15:38:38.843683",
     "status": "completed"
    },
    "tags": []
   },
   "outputs": [],
   "source": [
    "d2 = {\n",
    "'Name': ['Shark', 'Whale', 'Jellyfish', 'Starfish', pd.NaT],\n",
    "'ID': [1, 2, 3, 4, pd.NaT],\n",
    "'Population': [100, 200, np.nan, pd.NaT, pd.NaT],\n",
    "'Regions': [1, None, pd.NaT, pd.NaT, pd.NaT],\n",
    "'Endangered': [5, pd.NaT, pd.NaT, pd.NaT, pd.NaT]\n",
    "}\n",
    "df2 = pd.DataFrame(d2)"
   ]
  },
  {
   "cell_type": "code",
   "execution_count": 17,
   "id": "f676bd08",
   "metadata": {
    "execution": {
     "iopub.execute_input": "2024-08-05T15:38:38.890295Z",
     "iopub.status.busy": "2024-08-05T15:38:38.889880Z",
     "iopub.status.idle": "2024-08-05T15:38:38.897394Z",
     "shell.execute_reply": "2024-08-05T15:38:38.895933Z"
    },
    "papermill": {
     "duration": 0.021461,
     "end_time": "2024-08-05T15:38:38.900220",
     "exception": false,
     "start_time": "2024-08-05T15:38:38.878759",
     "status": "completed"
    },
    "tags": []
   },
   "outputs": [
    {
     "name": "stderr",
     "output_type": "stream",
     "text": [
      "/kaggle/working/DataPrep_Kit.py:63: FutureWarning: Downcasting object dtype arrays on .fillna, .ffill, .bfill is deprecated and will change in a future version. Call result.infer_objects(copy=False) instead. To opt-in to the future behavior, set `pd.set_option('future.no_silent_downcasting', True)`\n",
      "  data.fillna( methods['value'], inplace = True)\n"
     ]
    }
   ],
   "source": [
    "dp.handle_missing_values(df2,data_method='specific',value=1812)"
   ]
  },
  {
   "cell_type": "code",
   "execution_count": 18,
   "id": "4f3705b5",
   "metadata": {
    "execution": {
     "iopub.execute_input": "2024-08-05T15:38:38.924302Z",
     "iopub.status.busy": "2024-08-05T15:38:38.922943Z",
     "iopub.status.idle": "2024-08-05T15:38:38.936286Z",
     "shell.execute_reply": "2024-08-05T15:38:38.935040Z"
    },
    "papermill": {
     "duration": 0.028243,
     "end_time": "2024-08-05T15:38:38.939369",
     "exception": false,
     "start_time": "2024-08-05T15:38:38.911126",
     "status": "completed"
    },
    "tags": []
   },
   "outputs": [
    {
     "data": {
      "text/html": [
       "<div>\n",
       "<style scoped>\n",
       "    .dataframe tbody tr th:only-of-type {\n",
       "        vertical-align: middle;\n",
       "    }\n",
       "\n",
       "    .dataframe tbody tr th {\n",
       "        vertical-align: top;\n",
       "    }\n",
       "\n",
       "    .dataframe thead th {\n",
       "        text-align: right;\n",
       "    }\n",
       "</style>\n",
       "<table border=\"1\" class=\"dataframe\">\n",
       "  <thead>\n",
       "    <tr style=\"text-align: right;\">\n",
       "      <th></th>\n",
       "      <th>Name</th>\n",
       "      <th>ID</th>\n",
       "      <th>Population</th>\n",
       "      <th>Regions</th>\n",
       "      <th>Endangered</th>\n",
       "    </tr>\n",
       "  </thead>\n",
       "  <tbody>\n",
       "    <tr>\n",
       "      <th>0</th>\n",
       "      <td>Shark</td>\n",
       "      <td>1</td>\n",
       "      <td>100</td>\n",
       "      <td>1</td>\n",
       "      <td>5</td>\n",
       "    </tr>\n",
       "    <tr>\n",
       "      <th>1</th>\n",
       "      <td>Whale</td>\n",
       "      <td>2</td>\n",
       "      <td>200</td>\n",
       "      <td>1812</td>\n",
       "      <td>1812</td>\n",
       "    </tr>\n",
       "    <tr>\n",
       "      <th>2</th>\n",
       "      <td>Jellyfish</td>\n",
       "      <td>3</td>\n",
       "      <td>1812</td>\n",
       "      <td>1812</td>\n",
       "      <td>1812</td>\n",
       "    </tr>\n",
       "    <tr>\n",
       "      <th>3</th>\n",
       "      <td>Starfish</td>\n",
       "      <td>4</td>\n",
       "      <td>1812</td>\n",
       "      <td>1812</td>\n",
       "      <td>1812</td>\n",
       "    </tr>\n",
       "    <tr>\n",
       "      <th>4</th>\n",
       "      <td>1812</td>\n",
       "      <td>1812</td>\n",
       "      <td>1812</td>\n",
       "      <td>1812</td>\n",
       "      <td>1812</td>\n",
       "    </tr>\n",
       "  </tbody>\n",
       "</table>\n",
       "</div>"
      ],
      "text/plain": [
       "        Name    ID  Population  Regions  Endangered\n",
       "0      Shark     1         100        1           5\n",
       "1      Whale     2         200     1812        1812\n",
       "2  Jellyfish     3        1812     1812        1812\n",
       "3   Starfish     4        1812     1812        1812\n",
       "4       1812  1812        1812     1812        1812"
      ]
     },
     "execution_count": 18,
     "metadata": {},
     "output_type": "execute_result"
    }
   ],
   "source": [
    "df2"
   ]
  },
  {
   "cell_type": "code",
   "execution_count": 19,
   "id": "b19b72e0",
   "metadata": {
    "execution": {
     "iopub.execute_input": "2024-08-05T15:38:38.961684Z",
     "iopub.status.busy": "2024-08-05T15:38:38.961234Z",
     "iopub.status.idle": "2024-08-05T15:38:38.989406Z",
     "shell.execute_reply": "2024-08-05T15:38:38.988208Z"
    },
    "papermill": {
     "duration": 0.04287,
     "end_time": "2024-08-05T15:38:38.992609",
     "exception": false,
     "start_time": "2024-08-05T15:38:38.949739",
     "status": "completed"
    },
    "tags": []
   },
   "outputs": [],
   "source": [
    "data = dp.read_file('/kaggle/input/retail-sales-dataset/retail_sales_dataset.csv','csv')"
   ]
  },
  {
   "cell_type": "code",
   "execution_count": 20,
   "id": "d2cb2aa8",
   "metadata": {
    "execution": {
     "iopub.execute_input": "2024-08-05T15:38:39.016705Z",
     "iopub.status.busy": "2024-08-05T15:38:39.016117Z",
     "iopub.status.idle": "2024-08-05T15:38:39.025027Z",
     "shell.execute_reply": "2024-08-05T15:38:39.023750Z"
    },
    "papermill": {
     "duration": 0.02389,
     "end_time": "2024-08-05T15:38:39.027905",
     "exception": false,
     "start_time": "2024-08-05T15:38:39.004015",
     "status": "completed"
    },
    "tags": []
   },
   "outputs": [
    {
     "name": "stdout",
     "output_type": "stream",
     "text": [
      "Help on function read_file in module DataPrep_Kit:\n",
      "\n",
      "read_file(pathOfFile, typeOfFile)\n",
      "    It's a function in my own package to read file using pandas package \n",
      "    data maybe csv, Fixed-Width Text File (fwf), JSON, HTML , XML , clipboard,\n",
      "    Excel, HDF5 (hdf), feather, Parquet, orc , stata and SQL\n",
      "\n"
     ]
    }
   ],
   "source": [
    "data_2 = dp.read_file('/kaggle/input/retail-sales-dataset/retail_sales_dataset.csv','clv')"
   ]
  },
  {
   "cell_type": "code",
   "execution_count": 21,
   "id": "676c8204",
   "metadata": {
    "execution": {
     "iopub.execute_input": "2024-08-05T15:38:39.051296Z",
     "iopub.status.busy": "2024-08-05T15:38:39.050871Z",
     "iopub.status.idle": "2024-08-05T15:38:39.060375Z",
     "shell.execute_reply": "2024-08-05T15:38:39.058986Z"
    },
    "papermill": {
     "duration": 0.024496,
     "end_time": "2024-08-05T15:38:39.063046",
     "exception": false,
     "start_time": "2024-08-05T15:38:39.038550",
     "status": "completed"
    },
    "tags": []
   },
   "outputs": [
    {
     "data": {
      "text/html": [
       "<div>\n",
       "<style scoped>\n",
       "    .dataframe tbody tr th:only-of-type {\n",
       "        vertical-align: middle;\n",
       "    }\n",
       "\n",
       "    .dataframe tbody tr th {\n",
       "        vertical-align: top;\n",
       "    }\n",
       "\n",
       "    .dataframe thead th {\n",
       "        text-align: right;\n",
       "    }\n",
       "</style>\n",
       "<table border=\"1\" class=\"dataframe\">\n",
       "  <thead>\n",
       "    <tr style=\"text-align: right;\">\n",
       "      <th></th>\n",
       "    </tr>\n",
       "  </thead>\n",
       "  <tbody>\n",
       "  </tbody>\n",
       "</table>\n",
       "</div>"
      ],
      "text/plain": [
       "Empty DataFrame\n",
       "Columns: []\n",
       "Index: []"
      ]
     },
     "execution_count": 21,
     "metadata": {},
     "output_type": "execute_result"
    }
   ],
   "source": [
    "data_2"
   ]
  },
  {
   "cell_type": "code",
   "execution_count": 22,
   "id": "7484cb47",
   "metadata": {
    "execution": {
     "iopub.execute_input": "2024-08-05T15:38:39.087460Z",
     "iopub.status.busy": "2024-08-05T15:38:39.087048Z",
     "iopub.status.idle": "2024-08-05T15:38:39.140986Z",
     "shell.execute_reply": "2024-08-05T15:38:39.139544Z"
    },
    "papermill": {
     "duration": 0.069533,
     "end_time": "2024-08-05T15:38:39.144282",
     "exception": false,
     "start_time": "2024-08-05T15:38:39.074749",
     "status": "completed"
    },
    "tags": []
   },
   "outputs": [
    {
     "data": {
      "text/html": [
       "<div>\n",
       "<style scoped>\n",
       "    .dataframe tbody tr th:only-of-type {\n",
       "        vertical-align: middle;\n",
       "    }\n",
       "\n",
       "    .dataframe tbody tr th {\n",
       "        vertical-align: top;\n",
       "    }\n",
       "\n",
       "    .dataframe thead th {\n",
       "        text-align: right;\n",
       "    }\n",
       "</style>\n",
       "<table border=\"1\" class=\"dataframe\">\n",
       "  <thead>\n",
       "    <tr style=\"text-align: right;\">\n",
       "      <th></th>\n",
       "      <th>Date</th>\n",
       "      <th>Customer ID</th>\n",
       "      <th>Gender</th>\n",
       "      <th>Product Category</th>\n",
       "    </tr>\n",
       "  </thead>\n",
       "  <tbody>\n",
       "    <tr>\n",
       "      <th>count</th>\n",
       "      <td>1000</td>\n",
       "      <td>1000</td>\n",
       "      <td>1000</td>\n",
       "      <td>1000</td>\n",
       "    </tr>\n",
       "    <tr>\n",
       "      <th>unique</th>\n",
       "      <td>345</td>\n",
       "      <td>1000</td>\n",
       "      <td>2</td>\n",
       "      <td>3</td>\n",
       "    </tr>\n",
       "    <tr>\n",
       "      <th>top</th>\n",
       "      <td>2023-05-16</td>\n",
       "      <td>CUST001</td>\n",
       "      <td>Female</td>\n",
       "      <td>Clothing</td>\n",
       "    </tr>\n",
       "    <tr>\n",
       "      <th>freq</th>\n",
       "      <td>11</td>\n",
       "      <td>1</td>\n",
       "      <td>510</td>\n",
       "      <td>351</td>\n",
       "    </tr>\n",
       "  </tbody>\n",
       "</table>\n",
       "</div>"
      ],
      "text/plain": [
       "              Date Customer ID  Gender Product Category\n",
       "count         1000        1000    1000             1000\n",
       "unique         345        1000       2                3\n",
       "top     2023-05-16     CUST001  Female         Clothing\n",
       "freq            11           1     510              351"
      ]
     },
     "metadata": {},
     "output_type": "display_data"
    },
    {
     "data": {
      "text/html": [
       "<div>\n",
       "<style scoped>\n",
       "    .dataframe tbody tr th:only-of-type {\n",
       "        vertical-align: middle;\n",
       "    }\n",
       "\n",
       "    .dataframe tbody tr th {\n",
       "        vertical-align: top;\n",
       "    }\n",
       "\n",
       "    .dataframe thead th {\n",
       "        text-align: right;\n",
       "    }\n",
       "</style>\n",
       "<table border=\"1\" class=\"dataframe\">\n",
       "  <thead>\n",
       "    <tr style=\"text-align: right;\">\n",
       "      <th></th>\n",
       "      <th>Transaction ID</th>\n",
       "      <th>Age</th>\n",
       "      <th>Quantity</th>\n",
       "      <th>Price per Unit</th>\n",
       "      <th>Total Amount</th>\n",
       "    </tr>\n",
       "  </thead>\n",
       "  <tbody>\n",
       "    <tr>\n",
       "      <th>count</th>\n",
       "      <td>1000.000000</td>\n",
       "      <td>1000.00000</td>\n",
       "      <td>1000.000000</td>\n",
       "      <td>1000.000000</td>\n",
       "      <td>1000.000000</td>\n",
       "    </tr>\n",
       "    <tr>\n",
       "      <th>mean</th>\n",
       "      <td>500.500000</td>\n",
       "      <td>41.39200</td>\n",
       "      <td>2.514000</td>\n",
       "      <td>179.890000</td>\n",
       "      <td>456.000000</td>\n",
       "    </tr>\n",
       "    <tr>\n",
       "      <th>std</th>\n",
       "      <td>288.819436</td>\n",
       "      <td>13.68143</td>\n",
       "      <td>1.132734</td>\n",
       "      <td>189.681356</td>\n",
       "      <td>559.997632</td>\n",
       "    </tr>\n",
       "    <tr>\n",
       "      <th>min</th>\n",
       "      <td>1.000000</td>\n",
       "      <td>18.00000</td>\n",
       "      <td>1.000000</td>\n",
       "      <td>25.000000</td>\n",
       "      <td>25.000000</td>\n",
       "    </tr>\n",
       "    <tr>\n",
       "      <th>25%</th>\n",
       "      <td>250.750000</td>\n",
       "      <td>29.00000</td>\n",
       "      <td>1.000000</td>\n",
       "      <td>30.000000</td>\n",
       "      <td>60.000000</td>\n",
       "    </tr>\n",
       "    <tr>\n",
       "      <th>50%</th>\n",
       "      <td>500.500000</td>\n",
       "      <td>42.00000</td>\n",
       "      <td>3.000000</td>\n",
       "      <td>50.000000</td>\n",
       "      <td>135.000000</td>\n",
       "    </tr>\n",
       "    <tr>\n",
       "      <th>75%</th>\n",
       "      <td>750.250000</td>\n",
       "      <td>53.00000</td>\n",
       "      <td>4.000000</td>\n",
       "      <td>300.000000</td>\n",
       "      <td>900.000000</td>\n",
       "    </tr>\n",
       "    <tr>\n",
       "      <th>max</th>\n",
       "      <td>1000.000000</td>\n",
       "      <td>64.00000</td>\n",
       "      <td>4.000000</td>\n",
       "      <td>500.000000</td>\n",
       "      <td>2000.000000</td>\n",
       "    </tr>\n",
       "  </tbody>\n",
       "</table>\n",
       "</div>"
      ],
      "text/plain": [
       "       Transaction ID         Age     Quantity  Price per Unit  Total Amount\n",
       "count     1000.000000  1000.00000  1000.000000     1000.000000   1000.000000\n",
       "mean       500.500000    41.39200     2.514000      179.890000    456.000000\n",
       "std        288.819436    13.68143     1.132734      189.681356    559.997632\n",
       "min          1.000000    18.00000     1.000000       25.000000     25.000000\n",
       "25%        250.750000    29.00000     1.000000       30.000000     60.000000\n",
       "50%        500.500000    42.00000     3.000000       50.000000    135.000000\n",
       "75%        750.250000    53.00000     4.000000      300.000000    900.000000\n",
       "max       1000.000000    64.00000     4.000000      500.000000   2000.000000"
      ]
     },
     "metadata": {},
     "output_type": "display_data"
    }
   ],
   "source": [
    "dp.Data_Summary(data)"
   ]
  },
  {
   "cell_type": "code",
   "execution_count": null,
   "id": "f57311df",
   "metadata": {
    "papermill": {
     "duration": 0.011353,
     "end_time": "2024-08-05T15:38:39.167238",
     "exception": false,
     "start_time": "2024-08-05T15:38:39.155885",
     "status": "completed"
    },
    "tags": []
   },
   "outputs": [],
   "source": []
  }
 ],
 "metadata": {
  "kaggle": {
   "accelerator": "none",
   "dataSources": [
    {
     "datasetId": 3655505,
     "sourceId": 6347913,
     "sourceType": "datasetVersion"
    }
   ],
   "dockerImageVersionId": 30746,
   "isGpuEnabled": false,
   "isInternetEnabled": true,
   "language": "python",
   "sourceType": "notebook"
  },
  "kernelspec": {
   "display_name": "Python 3",
   "language": "python",
   "name": "python3"
  },
  "language_info": {
   "codemirror_mode": {
    "name": "ipython",
    "version": 3
   },
   "file_extension": ".py",
   "mimetype": "text/x-python",
   "name": "python",
   "nbconvert_exporter": "python",
   "pygments_lexer": "ipython3",
   "version": "3.10.13"
  },
  "papermill": {
   "default_parameters": {},
   "duration": 7.265285,
   "end_time": "2024-08-05T15:38:39.801512",
   "environment_variables": {},
   "exception": null,
   "input_path": "__notebook__.ipynb",
   "output_path": "__notebook__.ipynb",
   "parameters": {},
   "start_time": "2024-08-05T15:38:32.536227",
   "version": "2.5.0"
  }
 },
 "nbformat": 4,
 "nbformat_minor": 5
}
